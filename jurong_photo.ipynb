{
 "cells": [
  {
   "cell_type": "code",
   "execution_count": 1,
   "id": "6a1d3c64",
   "metadata": {},
   "outputs": [],
   "source": [
    "import requests"
   ]
  },
  {
   "cell_type": "code",
   "execution_count": 2,
   "id": "807f7143",
   "metadata": {},
   "outputs": [],
   "source": [
    "url = f\"https://api.data.gov.sg/v1/transport/traffic-images\""
   ]
  },
  {
   "cell_type": "code",
   "execution_count": 3,
   "id": "5c70e3d6",
   "metadata": {},
   "outputs": [],
   "source": [
    "response=requests.get(\"https://api.data.gov.sg/v1/transport/traffic-images?\")"
   ]
  },
  {
   "cell_type": "code",
   "execution_count": 4,
   "id": "17ca74a0",
   "metadata": {},
   "outputs": [],
   "source": [
    "traffic_url=response.json()"
   ]
  },
  {
   "cell_type": "code",
   "execution_count": 6,
   "id": "ff191dce",
   "metadata": {},
   "outputs": [],
   "source": [
    "jurong_photo = [i for i in traffic_url['items'][0]['cameras'] if i['camera_id'] == '4703'][0]['image']"
   ]
  },
  {
   "cell_type": "code",
   "execution_count": null,
   "id": "50ff022d",
   "metadata": {},
   "outputs": [],
   "source": [
    "import time\n",
    "\n",
    "url = f\"https://api.data.gov.sg/v1/transport/traffic-images\"\n",
    "response = requests.get(\"https://api.data.gov.sg/v1/transport/traffic-images?\")\n",
    "traffic_url = response.json()\n",
    "\n",
    "# Get the image URL for camera with ID 2701\n",
    "jurong_image_url = [i for i in traffic_url['items'][0]['cameras'] if i['camera_id'] == '4703'][0]['image']\n",
    "\n",
    "# Download the image\n",
    "image_response = requests.get(jurong_image_url)\n",
    "\n",
    "# Save the image to disk\n",
    "with open(\"/Users/rachelp/Downloads/traffic_image_data_studio1/jurong_image.jpg\", \"wb\") as f:\n",
    "    f.write(image_response.content)\n",
    "    \n",
    "    time.sleep(600)"
   ]
  },
  {
   "cell_type": "code",
   "execution_count": null,
   "id": "cbd713bf",
   "metadata": {},
   "outputs": [],
   "source": []
  }
 ],
 "metadata": {
  "kernelspec": {
   "display_name": "Python 3 (ipykernel)",
   "language": "python",
   "name": "python3"
  },
  "language_info": {
   "codemirror_mode": {
    "name": "ipython",
    "version": 3
   },
   "file_extension": ".py",
   "mimetype": "text/x-python",
   "name": "python",
   "nbconvert_exporter": "python",
   "pygments_lexer": "ipython3",
   "version": "3.11.0rc2"
  }
 },
 "nbformat": 4,
 "nbformat_minor": 5
}
